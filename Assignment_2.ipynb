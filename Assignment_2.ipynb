{
 "cells": [
  {
   "cell_type": "markdown",
   "metadata": {},
   "source": [
    "# Assignment 2 - Network Connectivity\n",
    "\n",
    "In this assignment you will go through the process of importing and analyzing an internal email communication network between employees of a mid-sized manufacturing company."
   ]
  },
  {
   "cell_type": "code",
   "execution_count": 1,
   "metadata": {},
   "outputs": [
    {
     "name": "stdout",
     "output_type": "stream",
     "text": [
      "#Sender\tRecipient\ttime\r\n",
      "1\t2\t1262454010\r\n",
      "1\t3\t1262454010\r\n",
      "1\t4\t1262454010\r\n",
      "1\t5\t1262454010\r\n",
      "1\t6\t1262454010\r\n",
      "1\t7\t1262454010\r\n",
      "1\t8\t1262454010\r\n",
      "1\t9\t1262454010\r\n",
      "1\t10\t1262454010\r\n"
     ]
    }
   ],
   "source": [
    "import networkx as nx\n",
    "\n",
    "# This line must be commented out when submitting to the autograder\n",
    "# !head email_network.txt"
   ]
  },
  {
   "cell_type": "code",
   "execution_count": 2,
   "metadata": {},
   "outputs": [
    {
     "data": {
      "text/plain": [
       "<networkx.classes.multidigraph.MultiDiGraph at 0x7f4da0be6390>"
      ]
     },
     "execution_count": 2,
     "metadata": {},
     "output_type": "execute_result"
    }
   ],
   "source": [
    "def answer_one():\n",
    "    \n",
    "    # Your Code Here\n",
    "    Graph = nx.read_edgelist('email_network.txt', \n",
    "                             delimiter='\\t', \n",
    "                             data=[('time', int)], \n",
    "                             create_using=nx.MultiDiGraph())\n",
    "    \n",
    "    return Graph\n",
    "\n",
    "# answer_one()"
   ]
  },
  {
   "cell_type": "code",
   "execution_count": 4,
   "metadata": {},
   "outputs": [
    {
     "data": {
      "text/plain": [
       "(167, 82927)"
      ]
     },
     "execution_count": 4,
     "metadata": {},
     "output_type": "execute_result"
    }
   ],
   "source": [
    "def answer_two():\n",
    "        \n",
    "    # Your Code Here\n",
    "    Graph = answer_one()\n",
    "    ans = len(Graph.nodes()), len(Graph.edges())\n",
    "    \n",
    "    return ans\n",
    "\n",
    "# answer_two()"
   ]
  },
  {
   "cell_type": "code",
   "execution_count": 6,
   "metadata": {},
   "outputs": [
    {
     "data": {
      "text/plain": [
       "(False, True)"
      ]
     },
     "execution_count": 6,
     "metadata": {},
     "output_type": "execute_result"
    }
   ],
   "source": [
    "def answer_three():\n",
    "        \n",
    "    # Your Code Here\n",
    "    Graph = answer_one()\n",
    "    \n",
    "    # check if the graph is strongly connected or not\n",
    "    part1 = nx.is_strongly_connected(Graph)\n",
    "    \n",
    "    # check if the graph is connected or not, change it to undirected graph first\n",
    "    part2 = nx.is_connected(Graph.to_undirected())\n",
    "    \n",
    "    return part1, part2\n",
    "\n",
    "# answer_three()"
   ]
  },
  {
   "cell_type": "code",
   "execution_count": 14,
   "metadata": {
    "scrolled": true
   },
   "outputs": [
    {
     "data": {
      "text/plain": [
       "167"
      ]
     },
     "execution_count": 14,
     "metadata": {},
     "output_type": "execute_result"
    }
   ],
   "source": [
    "def answer_four():\n",
    "        \n",
    "    # Your Code Here\n",
    "    G = answer_one()\n",
    "    weak = nx.weakly_connected_components(G)\n",
    "    ans = len(max(weak, key=len))\n",
    "    \n",
    "    return ans\n",
    "\n",
    "# answer_four()"
   ]
  },
  {
   "cell_type": "code",
   "execution_count": 17,
   "metadata": {},
   "outputs": [
    {
     "data": {
      "text/plain": [
       "126"
      ]
     },
     "execution_count": 17,
     "metadata": {},
     "output_type": "execute_result"
    }
   ],
   "source": [
    "def answer_five():\n",
    "        \n",
    "    # Your Code Here\n",
    "    G = answer_one()\n",
    "    strong = nx.strongly_connected_components(G)\n",
    "    ans = len(max(strong, key=len))\n",
    "    \n",
    "    return ans\n",
    "\n",
    "# answer_five()"
   ]
  },
  {
   "cell_type": "code",
   "execution_count": 19,
   "metadata": {},
   "outputs": [
    {
     "data": {
      "text/plain": [
       "<networkx.classes.multidigraph.MultiDiGraph at 0x7f4e3cd27fd0>"
      ]
     },
     "execution_count": 19,
     "metadata": {},
     "output_type": "execute_result"
    }
   ],
   "source": [
    "def answer_six():\n",
    "        \n",
    "    # Your Code Here\n",
    "    G = answer_one()\n",
    "    strong_subs = nx.strongly_connected_component_subgraphs(G)\n",
    "    ans = max(strong_subs, key=len)\n",
    "    \n",
    "    return ans\n",
    "\n",
    "# answer_six()"
   ]
  },
  {
   "cell_type": "code",
   "execution_count": 20,
   "metadata": {},
   "outputs": [
    {
     "data": {
      "text/plain": [
       "1.6461587301587302"
      ]
     },
     "execution_count": 20,
     "metadata": {},
     "output_type": "execute_result"
    }
   ],
   "source": [
    "def answer_seven():\n",
    "        \n",
    "    # Your Code Here\n",
    "    Graph = answer_six()\n",
    "    ans = nx.average_shortest_path_length(Graph)\n",
    "    \n",
    "    return ans\n",
    "\n",
    "# answer_seven()"
   ]
  },
  {
   "cell_type": "code",
   "execution_count": 21,
   "metadata": {},
   "outputs": [
    {
     "data": {
      "text/plain": [
       "3"
      ]
     },
     "execution_count": 21,
     "metadata": {},
     "output_type": "execute_result"
    }
   ],
   "source": [
    "def answer_eight():\n",
    "        \n",
    "    # Your Code Here\n",
    "    Graph = answer_six()\n",
    "    ans = nx.diameter(Graph)\n",
    "    \n",
    "    return ans\n",
    "\n",
    "# answer_eight()"
   ]
  },
  {
   "cell_type": "code",
   "execution_count": 23,
   "metadata": {},
   "outputs": [
    {
     "data": {
      "text/plain": [
       "{'129', '134', '97'}"
      ]
     },
     "execution_count": 23,
     "metadata": {},
     "output_type": "execute_result"
    }
   ],
   "source": [
    "def answer_nine():\n",
    "       \n",
    "    # Your Code Here\n",
    "    Graph = answer_six()\n",
    "    ans = set(nx.periphery(Graph)) # find periphery and using set to find unique values\n",
    "    \n",
    "    return ans\n",
    "\n",
    "# answer_nine()"
   ]
  },
  {
   "cell_type": "code",
   "execution_count": 24,
   "metadata": {},
   "outputs": [
    {
     "data": {
      "text/plain": [
       "{'38'}"
      ]
     },
     "execution_count": 24,
     "metadata": {},
     "output_type": "execute_result"
    }
   ],
   "source": [
    "def answer_ten():\n",
    "        \n",
    "    # Your Code Here\n",
    "    Graph = answer_six()\n",
    "    ans = set(nx.center(Graph)) # find the center and using set to find unique values\n",
    "    \n",
    "    return ans\n",
    "\n",
    "# answer_ten()"
   ]
  },
  {
   "cell_type": "code",
   "execution_count": 30,
   "metadata": {},
   "outputs": [
    {
     "data": {
      "text/plain": [
       "('97', 63)"
      ]
     },
     "execution_count": 30,
     "metadata": {},
     "output_type": "execute_result"
    }
   ],
   "source": [
    "def answer_eleven():\n",
    "        \n",
    "    # Your Code Here\n",
    "    Graph = answer_six()\n",
    "    d = answer_eight()\n",
    "    peripheries = answer_nine()\n",
    "    \n",
    "    max_count = -1\n",
    "    result_node = None\n",
    "    for node in peripheries:\n",
    "        count = 0\n",
    "        sp = nx.shortest_path_length(Graph, node)\n",
    "        for key, value in sp.items():\n",
    "            if value == d:\n",
    "                count += 1        \n",
    "        if count > max_count:\n",
    "            result_node = node\n",
    "            max_count = count\n",
    "            \n",
    "    ans = result_node, max_count\n",
    "    \n",
    "    return ans\n",
    "\n",
    "# answer_eleven()"
   ]
  },
  {
   "cell_type": "code",
   "execution_count": 31,
   "metadata": {},
   "outputs": [
    {
     "data": {
      "text/plain": [
       "5"
      ]
     },
     "execution_count": 31,
     "metadata": {},
     "output_type": "execute_result"
    }
   ],
   "source": [
    "def answer_twelve():\n",
    "        \n",
    "    # Your Code Here\n",
    "    Graph = answer_six()\n",
    "    ans = len(nx.minimum_node_cut(Graph, nx.center(Graph)[0], answer_eleven()[0]))\n",
    "    \n",
    "    return ans\n",
    "\n",
    "# answer_twelve()"
   ]
  },
  {
   "cell_type": "code",
   "execution_count": 34,
   "metadata": {},
   "outputs": [
    {
     "data": {
      "text/plain": [
       "<networkx.classes.graph.Graph at 0x7f4e3f78e7f0>"
      ]
     },
     "execution_count": 34,
     "metadata": {},
     "output_type": "execute_result"
    }
   ],
   "source": [
    "def answer_thirteen():\n",
    "        \n",
    "    # Your Code Here\n",
    "    G = answer_six()\n",
    "    G_un = G.to_undirected()\n",
    "    ans = nx.Graph(G_un)\n",
    "\n",
    "    return ans\n",
    "    \n",
    "# answer_thirteen()"
   ]
  },
  {
   "cell_type": "code",
   "execution_count": 38,
   "metadata": {},
   "outputs": [
    {
     "data": {
      "text/plain": [
       "(0.570111160700385, 0.697527243723142)"
      ]
     },
     "execution_count": 38,
     "metadata": {},
     "output_type": "execute_result"
    }
   ],
   "source": [
    "def answer_fourteen():\n",
    "        \n",
    "    # Your Code Here\n",
    "    Graph = answer_thirteen()\n",
    "    ans = nx.transitivity(Graph), nx.average_clustering(Graph)\n",
    "    \n",
    "    return ans\n",
    "\n",
    "# answer_fourteen()"
   ]
  }
 ],
 "metadata": {
  "coursera": {
   "course_slug": "python-social-network-analysis",
   "graded_item_id": "jMCHR",
   "launcher_item_id": "7RsKp",
   "part_id": "E9gn5"
  },
  "kernelspec": {
   "display_name": "Python 3",
   "language": "python",
   "name": "python3"
  },
  "language_info": {
   "codemirror_mode": {
    "name": "ipython",
    "version": 3
   },
   "file_extension": ".py",
   "mimetype": "text/x-python",
   "name": "python",
   "nbconvert_exporter": "python",
   "pygments_lexer": "ipython3",
   "version": "3.6.2"
  }
 },
 "nbformat": 4,
 "nbformat_minor": 2
}
